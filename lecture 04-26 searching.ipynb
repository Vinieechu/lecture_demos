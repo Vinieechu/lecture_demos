{
 "cells": [
  {
   "cell_type": "markdown",
   "metadata": {},
   "source": [
    "Load the `data/mpg.csv` data set into a **list of dictionaries** (a table) "
   ]
  },
  {
   "cell_type": "code",
   "execution_count": null,
   "metadata": {
    "collapsed": true
   },
   "outputs": [],
   "source": [
    "with open('data/mpg.csv') as f:\n",
    "    lines = f.readlines()\n",
    "\n",
    "keys = lines[0].strip().split(',')\n",
    "\n",
    "mpg = []\n",
    "for line in lines[1:]:\n",
    "    values = line.strip().split(',')\n",
    "    record = {}\n",
    "    for index in range(len(keys)):\n",
    "        record[keys[index]] = values[index]\n",
    "    record['city'] = float(record['city'])\n",
    "    record['hwy'] = float(record['hwy'])\n",
    "    mpg.append(record)"
   ]
  },
  {
   "cell_type": "code",
   "execution_count": 1,
   "metadata": {},
   "outputs": [
    {
     "name": "stdout",
     "output_type": "stream",
     "text": [
      "apple\n",
      "a\n",
      "p\n",
      "p\n",
      "l\n",
      "e\n",
      "banana\n",
      "b\n",
      "a\n",
      "n\n",
      "a\n",
      "n\n",
      "a\n",
      "orange\n",
      "o\n",
      "r\n",
      "a\n",
      "n\n",
      "g\n",
      "e\n"
     ]
    }
   ],
   "source": [
    "words = [\"apple\" , \"banana\", \"orange\"]\n",
    "for word in words:\n",
    "    print(word)\n",
    "    for letter in word:\n",
    "        print(letter)\n",
    "\n",
    "\n"
   ]
  },
  {
   "cell_type": "code",
   "execution_count": 5,
   "metadata": {},
   "outputs": [
    {
     "data": {
      "text/plain": [
       "10"
      ]
     },
     "execution_count": 5,
     "metadata": {},
     "output_type": "execute_result"
    }
   ],
   "source": [
    "my_dicts = [\n",
    "    {'a':1, 'b':2, 'c':3},\n",
    "    {'a':4, 'b':5, 'c':6},\n",
    "]\n",
    "\n",
    "second_row = my_dicts[1]\n",
    "my_dicts[1]['a'] + my_dicts[1]['c']"
   ]
  },
  {
   "cell_type": "code",
   "execution_count": 7,
   "metadata": {},
   "outputs": [
    {
     "data": {
      "text/plain": [
       "dict_items([('a', 4), ('b', 5), ('c', 6)])"
      ]
     },
     "execution_count": 7,
     "metadata": {},
     "output_type": "execute_result"
    }
   ],
   "source": [
    "second_row.items()"
   ]
  },
  {
   "cell_type": "code",
   "execution_count": null,
   "metadata": {
    "collapsed": true
   },
   "outputs": [],
   "source": []
  }
 ],
 "metadata": {
  "kernelspec": {
   "display_name": "Python 3",
   "language": "python",
   "name": "python3"
  },
  "language_info": {
   "codemirror_mode": {
    "name": "ipython",
    "version": 3
   },
   "file_extension": ".py",
   "mimetype": "text/x-python",
   "name": "python",
   "nbconvert_exporter": "python",
   "pygments_lexer": "ipython3",
   "version": "3.6.1"
  }
 },
 "nbformat": 4,
 "nbformat_minor": 2
}

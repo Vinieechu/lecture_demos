{
 "cells": [
  {
   "cell_type": "markdown",
   "metadata": {},
   "source": [
    "Load the `data/mpg.csv` data set into a **list of dictionaries** (a table) "
   ]
  },
  {
   "cell_type": "code",
   "execution_count": null,
   "metadata": {},
   "outputs": [],
   "source": [
    "with open('data/mpg.csv') as f:\n",
    "    lines = f.readlines()\n",
    "\n",
    "keys = lines[0].strip().split(',')\n",
    "\n",
    "mpg = []\n",
    "for line in lines[1:]:\n",
    "    values = line.strip().split(',')\n",
    "    record = {}\n",
    "    for index in range(len(keys)):\n",
    "        record[keys[index]] = values[index]\n",
    "    record['city'] = float(record['city'])\n",
    "    record['hwy'] = float(record['hwy'])\n",
    "    mpg.append(record)"
   ]
  },
  {
   "cell_type": "code",
   "execution_count": null,
   "metadata": {
    "collapsed": true
   },
   "outputs": [],
   "source": []
  }
 ],
 "metadata": {
  "kernelspec": {
   "display_name": "Python 3",
   "language": "python",
   "name": "python3"
  },
  "language_info": {
   "codemirror_mode": {
    "name": "ipython",
    "version": 3
   },
   "file_extension": ".py",
   "mimetype": "text/x-python",
   "name": "python",
   "nbconvert_exporter": "python",
   "pygments_lexer": "ipython3",
   "version": "3.6.1"
  }
 },
 "nbformat": 4,
 "nbformat_minor": 2
}

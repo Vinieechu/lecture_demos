{
 "cells": [
  {
   "cell_type": "code",
   "execution_count": null,
   "metadata": {
    "collapsed": true
   },
   "outputs": [],
   "source": []
  },
  {
   "cell_type": "code",
   "execution_count": null,
   "metadata": {
    "collapsed": true
   },
   "outputs": [],
   "source": [
    "get_example_info(type = \"husky\", name = \"dubs\")\n",
    "\n",
    "\"api.github.com/users//repos\""
   ]
  },
  {
   "cell_type": "code",
   "execution_count": 5,
   "metadata": {},
   "outputs": [
    {
     "name": "stdout",
     "output_type": "stream",
     "text": [
      "https://api.github.com/emojis\n"
     ]
    }
   ],
   "source": [
    "base_uri = \"https://api.github.com\"\n",
    "\n",
    "# URI variables (if any)\n",
    "username = \"info201\"\n",
    "\n",
    "# The specific endpoint of the address\n",
    "#resource = \"/users/\" + username + \"/repos\"\n",
    "resource = \"/emojis\"\n",
    "\n",
    "# The complete URI\n",
    "uri = base_uri + resource\n",
    "print(uri)"
   ]
  },
  {
   "cell_type": "code",
   "execution_count": 6,
   "metadata": {
    "collapsed": true
   },
   "outputs": [],
   "source": [
    "import requests"
   ]
  },
  {
   "cell_type": "code",
   "execution_count": 9,
   "metadata": {},
   "outputs": [
    {
     "name": "stdout",
     "output_type": "stream",
     "text": [
      "https://api.github.com/emojis\n"
     ]
    }
   ],
   "source": [
    "print(uri)\n",
    "response = requests.get(uri)"
   ]
  },
  {
   "cell_type": "code",
   "execution_count": 17,
   "metadata": {},
   "outputs": [
    {
     "data": {
      "text/plain": [
       "str"
      ]
     },
     "execution_count": 17,
     "metadata": {},
     "output_type": "execute_result"
    }
   ],
   "source": [
    "text = response.text\n",
    "type(text)"
   ]
  },
  {
   "cell_type": "code",
   "execution_count": 19,
   "metadata": {},
   "outputs": [],
   "source": [
    "import json"
   ]
  },
  {
   "cell_type": "code",
   "execution_count": 21,
   "metadata": {},
   "outputs": [
    {
     "data": {
      "text/plain": [
       "dict"
      ]
     },
     "execution_count": 21,
     "metadata": {},
     "output_type": "execute_result"
    }
   ],
   "source": [
    "data = json.loads(text)\n",
    "type(data)"
   ]
  },
  {
   "cell_type": "code",
   "execution_count": 22,
   "metadata": {},
   "outputs": [
    {
     "data": {
      "text/plain": [
       "'https://assets-cdn.github.com/images/icons/emoji/unicode/1f44d.png?v8'"
      ]
     },
     "execution_count": 22,
     "metadata": {},
     "output_type": "execute_result"
    }
   ],
   "source": [
    "data['+1']"
   ]
  },
  {
   "cell_type": "code",
   "execution_count": 26,
   "metadata": {},
   "outputs": [
    {
     "data": {
      "text/plain": [
       "'Hello'"
      ]
     },
     "execution_count": 26,
     "metadata": {},
     "output_type": "execute_result"
    }
   ],
   "source": [
    "json.loads('\"Hello\"')"
   ]
  },
  {
   "cell_type": "code",
   "execution_count": 28,
   "metadata": {
    "collapsed": true
   },
   "outputs": [],
   "source": [
    "resource_uri = \"https://api.github.com/search/repositories\"\n",
    "query_params = {'q': 'd3', 'sort': 'stars'}\n",
    "response = requests.get(resource_uri, params = query_params)"
   ]
  },
  {
   "cell_type": "code",
   "execution_count": 30,
   "metadata": {},
   "outputs": [],
   "source": [
    "response.url\n",
    "data = response.json()\n",
    "# data_as_text = response.text\n",
    "# data = json.loads(data_as_text)\n",
    "\n"
   ]
  },
  {
   "cell_type": "code",
   "execution_count": 35,
   "metadata": {},
   "outputs": [
    {
     "data": {
      "text/plain": [
       "dict_keys(['total_count', 'incomplete_results', 'items'])"
      ]
     },
     "execution_count": 35,
     "metadata": {},
     "output_type": "execute_result"
    }
   ],
   "source": [
    "type(data)\n",
    "data.keys()"
   ]
  },
  {
   "cell_type": "code",
   "execution_count": 37,
   "metadata": {},
   "outputs": [],
   "source": [
    "result_items = data['items']"
   ]
  },
  {
   "cell_type": "code",
   "execution_count": 41,
   "metadata": {},
   "outputs": [],
   "source": [
    "first_item = result_items[0]"
   ]
  },
  {
   "cell_type": "code",
   "execution_count": 42,
   "metadata": {},
   "outputs": [
    {
     "data": {
      "text/plain": [
       "{'archive_url': 'https://api.github.com/repos/freeCodeCamp/freeCodeCamp/{archive_format}{/ref}',\n",
       " 'archived': False,\n",
       " 'assignees_url': 'https://api.github.com/repos/freeCodeCamp/freeCodeCamp/assignees{/user}',\n",
       " 'blobs_url': 'https://api.github.com/repos/freeCodeCamp/freeCodeCamp/git/blobs{/sha}',\n",
       " 'branches_url': 'https://api.github.com/repos/freeCodeCamp/freeCodeCamp/branches{/branch}',\n",
       " 'clone_url': 'https://github.com/freeCodeCamp/freeCodeCamp.git',\n",
       " 'collaborators_url': 'https://api.github.com/repos/freeCodeCamp/freeCodeCamp/collaborators{/collaborator}',\n",
       " 'comments_url': 'https://api.github.com/repos/freeCodeCamp/freeCodeCamp/comments{/number}',\n",
       " 'commits_url': 'https://api.github.com/repos/freeCodeCamp/freeCodeCamp/commits{/sha}',\n",
       " 'compare_url': 'https://api.github.com/repos/freeCodeCamp/freeCodeCamp/compare/{base}...{head}',\n",
       " 'contents_url': 'https://api.github.com/repos/freeCodeCamp/freeCodeCamp/contents/{+path}',\n",
       " 'contributors_url': 'https://api.github.com/repos/freeCodeCamp/freeCodeCamp/contributors',\n",
       " 'created_at': '2014-12-24T17:49:19Z',\n",
       " 'default_branch': 'staging',\n",
       " 'deployments_url': 'https://api.github.com/repos/freeCodeCamp/freeCodeCamp/deployments',\n",
       " 'description': 'The https://freeCodeCamp.org open source codebase and curriculum. Learn to code and help nonprofits.',\n",
       " 'downloads_url': 'https://api.github.com/repos/freeCodeCamp/freeCodeCamp/downloads',\n",
       " 'events_url': 'https://api.github.com/repos/freeCodeCamp/freeCodeCamp/events',\n",
       " 'fork': False,\n",
       " 'forks': 13784,\n",
       " 'forks_count': 13784,\n",
       " 'forks_url': 'https://api.github.com/repos/freeCodeCamp/freeCodeCamp/forks',\n",
       " 'full_name': 'freeCodeCamp/freeCodeCamp',\n",
       " 'git_commits_url': 'https://api.github.com/repos/freeCodeCamp/freeCodeCamp/git/commits{/sha}',\n",
       " 'git_refs_url': 'https://api.github.com/repos/freeCodeCamp/freeCodeCamp/git/refs{/sha}',\n",
       " 'git_tags_url': 'https://api.github.com/repos/freeCodeCamp/freeCodeCamp/git/tags{/sha}',\n",
       " 'git_url': 'git://github.com/freeCodeCamp/freeCodeCamp.git',\n",
       " 'has_downloads': True,\n",
       " 'has_issues': True,\n",
       " 'has_pages': False,\n",
       " 'has_projects': True,\n",
       " 'has_wiki': False,\n",
       " 'homepage': '',\n",
       " 'hooks_url': 'https://api.github.com/repos/freeCodeCamp/freeCodeCamp/hooks',\n",
       " 'html_url': 'https://github.com/freeCodeCamp/freeCodeCamp',\n",
       " 'id': 28457823,\n",
       " 'issue_comment_url': 'https://api.github.com/repos/freeCodeCamp/freeCodeCamp/issues/comments{/number}',\n",
       " 'issue_events_url': 'https://api.github.com/repos/freeCodeCamp/freeCodeCamp/issues/events{/number}',\n",
       " 'issues_url': 'https://api.github.com/repos/freeCodeCamp/freeCodeCamp/issues{/number}',\n",
       " 'keys_url': 'https://api.github.com/repos/freeCodeCamp/freeCodeCamp/keys{/key_id}',\n",
       " 'labels_url': 'https://api.github.com/repos/freeCodeCamp/freeCodeCamp/labels{/name}',\n",
       " 'language': 'JavaScript',\n",
       " 'languages_url': 'https://api.github.com/repos/freeCodeCamp/freeCodeCamp/languages',\n",
       " 'license': {'key': 'bsd-3-clause',\n",
       "  'name': 'BSD 3-Clause \"New\" or \"Revised\" License',\n",
       "  'spdx_id': 'BSD-3-Clause',\n",
       "  'url': 'https://api.github.com/licenses/bsd-3-clause'},\n",
       " 'merges_url': 'https://api.github.com/repos/freeCodeCamp/freeCodeCamp/merges',\n",
       " 'milestones_url': 'https://api.github.com/repos/freeCodeCamp/freeCodeCamp/milestones{/number}',\n",
       " 'mirror_url': None,\n",
       " 'name': 'freeCodeCamp',\n",
       " 'notifications_url': 'https://api.github.com/repos/freeCodeCamp/freeCodeCamp/notifications{?since,all,participating}',\n",
       " 'open_issues': 170,\n",
       " 'open_issues_count': 170,\n",
       " 'owner': {'avatar_url': 'https://avatars0.githubusercontent.com/u/9892522?v=4',\n",
       "  'events_url': 'https://api.github.com/users/freeCodeCamp/events{/privacy}',\n",
       "  'followers_url': 'https://api.github.com/users/freeCodeCamp/followers',\n",
       "  'following_url': 'https://api.github.com/users/freeCodeCamp/following{/other_user}',\n",
       "  'gists_url': 'https://api.github.com/users/freeCodeCamp/gists{/gist_id}',\n",
       "  'gravatar_id': '',\n",
       "  'html_url': 'https://github.com/freeCodeCamp',\n",
       "  'id': 9892522,\n",
       "  'login': 'freeCodeCamp',\n",
       "  'organizations_url': 'https://api.github.com/users/freeCodeCamp/orgs',\n",
       "  'received_events_url': 'https://api.github.com/users/freeCodeCamp/received_events',\n",
       "  'repos_url': 'https://api.github.com/users/freeCodeCamp/repos',\n",
       "  'site_admin': False,\n",
       "  'starred_url': 'https://api.github.com/users/freeCodeCamp/starred{/owner}{/repo}',\n",
       "  'subscriptions_url': 'https://api.github.com/users/freeCodeCamp/subscriptions',\n",
       "  'type': 'Organization',\n",
       "  'url': 'https://api.github.com/users/freeCodeCamp'},\n",
       " 'private': False,\n",
       " 'pulls_url': 'https://api.github.com/repos/freeCodeCamp/freeCodeCamp/pulls{/number}',\n",
       " 'pushed_at': '2018-05-03T16:28:50Z',\n",
       " 'releases_url': 'https://api.github.com/repos/freeCodeCamp/freeCodeCamp/releases{/id}',\n",
       " 'score': 44.08879,\n",
       " 'size': 33443,\n",
       " 'ssh_url': 'git@github.com:freeCodeCamp/freeCodeCamp.git',\n",
       " 'stargazers_count': 292147,\n",
       " 'stargazers_url': 'https://api.github.com/repos/freeCodeCamp/freeCodeCamp/stargazers',\n",
       " 'statuses_url': 'https://api.github.com/repos/freeCodeCamp/freeCodeCamp/statuses/{sha}',\n",
       " 'subscribers_url': 'https://api.github.com/repos/freeCodeCamp/freeCodeCamp/subscribers',\n",
       " 'subscription_url': 'https://api.github.com/repos/freeCodeCamp/freeCodeCamp/subscription',\n",
       " 'svn_url': 'https://github.com/freeCodeCamp/freeCodeCamp',\n",
       " 'tags_url': 'https://api.github.com/repos/freeCodeCamp/freeCodeCamp/tags',\n",
       " 'teams_url': 'https://api.github.com/repos/freeCodeCamp/freeCodeCamp/teams',\n",
       " 'trees_url': 'https://api.github.com/repos/freeCodeCamp/freeCodeCamp/git/trees{/sha}',\n",
       " 'updated_at': '2018-05-03T18:35:41Z',\n",
       " 'url': 'https://api.github.com/repos/freeCodeCamp/freeCodeCamp',\n",
       " 'watchers': 292147,\n",
       " 'watchers_count': 292147}"
      ]
     },
     "execution_count": 42,
     "metadata": {},
     "output_type": "execute_result"
    }
   ],
   "source": [
    "first_item"
   ]
  },
  {
   "cell_type": "code",
   "execution_count": null,
   "metadata": {
    "collapsed": true
   },
   "outputs": [],
   "source": []
  }
 ],
 "metadata": {
  "kernelspec": {
   "display_name": "Python 3",
   "language": "python",
   "name": "python3"
  },
  "language_info": {
   "codemirror_mode": {
    "name": "ipython",
    "version": 3
   },
   "file_extension": ".py",
   "mimetype": "text/x-python",
   "name": "python",
   "nbconvert_exporter": "python",
   "pygments_lexer": "ipython3",
   "version": "3.6.1"
  }
 },
 "nbformat": 4,
 "nbformat_minor": 2
}

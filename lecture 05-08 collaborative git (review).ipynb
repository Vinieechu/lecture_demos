{
 "cells": [
  {
   "cell_type": "code",
   "execution_count": 11,
   "metadata": {
    "scrolled": true
   },
   "outputs": [
    {
     "name": "stdout",
     "output_type": "stream",
     "text": [
      "looped 9\n",
      "reduced 9\n",
      "dogbquick\n"
     ]
    }
   ],
   "source": [
    "from functools import reduce\n",
    "\n",
    "tweets = [\n",
    "    {'words': ['cat', 'dog', 'armadillo'], 'hashtags': ['animal']},\n",
    "    {'words': ['a', 'b'], 'hashtags': '#letters'},\n",
    "    {'words': ['the', 'quick' ,'brown', 'fox'], 'hashtags':['animal', 'quick']}\n",
    "]\n",
    "\n",
    "# how many words are there?\n",
    "\n",
    "def combine(big_ball, little_bit):\n",
    "    big_ball = big_ball + len(little_bit['words'])\n",
    "    return big_ball\n",
    "    \n",
    "\n",
    "count = 0\n",
    "for tweet in tweets:\n",
    "    count = combine(count, tweet)\n",
    "print(\"looped\", count)\n",
    "\n",
    "\n",
    "reduced_count = reduce(combine, tweets, 0)\n",
    "print(\"reduced\", reduced_count)  \n",
    "    \n",
    "\n",
    "def combine2(big_ball, little_bit):\n",
    "    big_ball = big_ball + little_bit['words'][1]\n",
    "    return big_ball\n",
    "\n",
    "                        #function  list  starting_value\n",
    "reduced_string = reduce(combine2, tweets, \"\")\n",
    "print(reduced_string)\n",
    "    \n"
   ]
  },
  {
   "cell_type": "code",
   "execution_count": null,
   "metadata": {
    "collapsed": true
   },
   "outputs": [],
   "source": [
    "tweets = [\n",
    "    {'words': ['cat', 'dog', 'armadillo'], 'hashtags': ['animal'], 'emotions': {'happy':True}},\n",
    "    {'words': ['a', 'b'], 'hashtags': '#letters', 'emotions': {'sad':True}},\n",
    "    {'words': ['the', 'quick' ,'brown', 'fox'], 'hashtags':['animal', 'quick']}\n",
    "]\n",
    "# which hashtags are happy?\n",
    "\n",
    "big_ball = []\n",
    "for tweet in tweets:\n",
    "    emotions = tweet['emotions']\n",
    "    if emotions.get(\"happy\", False) == True:\n",
    "        big_ball = big_ball + tweets['hashtags']\n",
    "\n",
    "\n",
    "big_emotion_ball = {'happy':[]}\n",
    "for tweet in tweets:\n",
    "    # example: first item in list\n",
    "    for emotion in tweet['emotions']:\n",
    "        # emotion = 'happy'\n",
    "        # this tweet has that emotion!\n",
    "        big_emotion_ball[emotion] = big_emotion_ball[emotion] + tweet['hashtags']\n",
    "        \n",
    "        \n",
    "\n",
    "# want:    \n",
    "# {\n",
    "#     'happy':['animal']\n",
    "#     'sad':['quick']\n",
    "# }\n",
    "\n",
    "\n",
    "def combine_hashtags(big_emotion_ball, tweet):\n",
    "    # example: first item in list\n",
    "    for emotion in tweet['emotions']:\n",
    "        # emotion = 'happy'\n",
    "        # this tweet has that emotion!\n",
    "        big_emotion_ball[emotion] = big_emotion_ball[emotion] + tweet['hashtags'] \n",
    "    return big_emotion_ball\n",
    "\n",
    "       #function         list    starting_value\n",
    "reduce(combine_hashtags, tweets, {'happy':[]})\n"
   ]
  },
  {
   "cell_type": "code",
   "execution_count": 13,
   "metadata": {},
   "outputs": [
    {
     "data": {
      "text/plain": [
       "{'my_new_key': 4}"
      ]
     },
     "execution_count": 13,
     "metadata": {},
     "output_type": "execute_result"
    }
   ],
   "source": [
    "d = {}\n",
    "d['my_new_key'] = 4\n",
    "d"
   ]
  },
  {
   "cell_type": "code",
   "execution_count": null,
   "metadata": {
    "collapsed": true
   },
   "outputs": [],
   "source": []
  }
 ],
 "metadata": {
  "kernelspec": {
   "display_name": "Python 3",
   "language": "python",
   "name": "python3"
  },
  "language_info": {
   "codemirror_mode": {
    "name": "ipython",
    "version": 3
   },
   "file_extension": ".py",
   "mimetype": "text/x-python",
   "name": "python",
   "nbconvert_exporter": "python",
   "pygments_lexer": "ipython3",
   "version": "3.6.1"
  }
 },
 "nbformat": 4,
 "nbformat_minor": 2
}

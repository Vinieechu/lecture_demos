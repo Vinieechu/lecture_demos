{
 "cells": [
  {
   "cell_type": "code",
   "execution_count": null,
   "metadata": {},
   "outputs": [],
   "source": [
    "game_score = (10, 12)"
   ]
  },
  {
   "cell_type": "code",
   "execution_count": null,
   "metadata": {
    "collapsed": true
   },
   "outputs": [],
   "source": [
    "#read in the file\n",
    "#write open('my_file.txt') as file:\n",
    "    #for each line in the file\n",
    "#    for line in file:\n",
    "        \n",
    "#        turtle.write(label)\n",
    "#        draw_rectangle()\n",
    "    \n",
    "#    get the label from the line\n",
    "#    tell turtle to write(label)\n",
    "#    draw rectangle\n",
    "\n"
   ]
  },
  {
   "cell_type": "code",
   "execution_count": 3,
   "metadata": {},
   "outputs": [
    {
     "data": {
      "text/plain": [
       "{'amit': 35, 'sarah': 42, 'zhang': 13}"
      ]
     },
     "execution_count": 3,
     "metadata": {},
     "output_type": "execute_result"
    }
   ],
   "source": [
    "ages = {'sarah':42, 'amit':35, 'zhang':13}\n",
    "ages"
   ]
  },
  {
   "cell_type": "code",
   "execution_count": 4,
   "metadata": {},
   "outputs": [
    {
     "data": {
      "text/plain": [
       "{'amit': 36, 'sarah': 42, 'zhang': 13}"
      ]
     },
     "execution_count": 4,
     "metadata": {},
     "output_type": "execute_result"
    }
   ],
   "source": [
    "ages['amit'] = ages['amit'] + 1  # happy birthday Amit!\n",
    "ages"
   ]
  },
  {
   "cell_type": "code",
   "execution_count": 5,
   "metadata": {
    "collapsed": true
   },
   "outputs": [],
   "source": [
    "ages[0] = 'since the dawn of mathematics'"
   ]
  },
  {
   "cell_type": "code",
   "execution_count": 6,
   "metadata": {},
   "outputs": [
    {
     "data": {
      "text/plain": [
       "{'sarah': 42, 'amit': 36, 'zhang': 13, 0: 'since the dawn of mathematics'}"
      ]
     },
     "execution_count": 6,
     "metadata": {},
     "output_type": "execute_result"
    }
   ],
   "source": [
    "ages"
   ]
  },
  {
   "cell_type": "code",
   "execution_count": 7,
   "metadata": {},
   "outputs": [
    {
     "data": {
      "text/plain": [
       "True"
      ]
     },
     "execution_count": 7,
     "metadata": {},
     "output_type": "execute_result"
    }
   ],
   "source": [
    "3 in [1,2,3,4,5]"
   ]
  },
  {
   "cell_type": "code",
   "execution_count": 8,
   "metadata": {
    "collapsed": true
   },
   "outputs": [],
   "source": [
    "sample_dict = {'a': 1, 'b': 2, 'c': 3, 'd': 4, 'e': 5}"
   ]
  },
  {
   "cell_type": "code",
   "execution_count": 18,
   "metadata": {},
   "outputs": [
    {
     "data": {
      "text/plain": [
       "0"
      ]
     },
     "execution_count": 18,
     "metadata": {},
     "output_type": "execute_result"
    }
   ],
   "source": [
    "sample_dict.get('f', 0) * 2"
   ]
  },
  {
   "cell_type": "code",
   "execution_count": 24,
   "metadata": {},
   "outputs": [
    {
     "data": {
      "text/plain": [
       "[('a', 1), ('b', 2), ('c', 3), ('d', 4), ('e', 5)]"
      ]
     },
     "execution_count": 24,
     "metadata": {},
     "output_type": "execute_result"
    }
   ],
   "source": [
    "list(sample_dict.items())"
   ]
  },
  {
   "cell_type": "code",
   "execution_count": 28,
   "metadata": {},
   "outputs": [
    {
     "name": "stdout",
     "output_type": "stream",
     "text": [
      "someone maps to 42\n",
      "someone maps to 36\n",
      "someone maps to 13\n",
      "someone maps to since the dawn of mathematics\n"
     ]
    }
   ],
   "source": [
    "for value in ages.values():\n",
    "    print(\"someone maps to\", value)"
   ]
  },
  {
   "cell_type": "code",
   "execution_count": 31,
   "metadata": {},
   "outputs": [
    {
     "name": "stdout",
     "output_type": "stream",
     "text": [
      "a maps to 1\n",
      "b maps to 2\n",
      "c maps to 3\n",
      "d maps to 4\n",
      "e maps to 5\n"
     ]
    }
   ],
   "source": [
    "for key, value in sample_dict.items():\n",
    "    #key, value = item\n",
    "    print(key, \"maps to\", value)"
   ]
  },
  {
   "cell_type": "code",
   "execution_count": 34,
   "metadata": {},
   "outputs": [
    {
     "name": "stdout",
     "output_type": "stream",
     "text": [
      "sarah is 42 years old\n",
      "amit is 36 years old\n",
      "zhang is 13 years old\n",
      "0 is since the dawn of mathematics years old\n"
     ]
    }
   ],
   "source": [
    "for name, age in ages.items():\n",
    "    print(name, \"is\", age, \"years old\")"
   ]
  },
  {
   "cell_type": "code",
   "execution_count": null,
   "metadata": {
    "collapsed": true
   },
   "outputs": [],
   "source": [
    "12\n",
    "89\n",
    "12313\n",
    "511\n",
    "13\n",
    "\n",
    "{'1':0}"
   ]
  },
  {
   "cell_type": "code",
   "execution_count": 37,
   "metadata": {},
   "outputs": [
    {
     "name": "stdout",
     "output_type": "stream",
     "text": [
      "h\n",
      "e\n",
      "l\n",
      "l\n",
      "o\n",
      " \n",
      "w\n",
      "o\n",
      "r\n",
      "l\n",
      "d\n"
     ]
    }
   ],
   "source": [
    "for line in \"hello world\":\n",
    "    print(line)"
   ]
  },
  {
   "cell_type": "code",
   "execution_count": 39,
   "metadata": {},
   "outputs": [
    {
     "data": {
      "text/plain": [
       "64"
      ]
     },
     "execution_count": 39,
     "metadata": {},
     "output_type": "execute_result"
    }
   ],
   "source": [
    "people = {\n",
    "    'Ada': {'name': 'Ada', 'height': 64, 'weight': 135},\n",
    "    'Bob': {'name': 'Bob', 'height': 74, 'weight': 156},\n",
    "    'Chris': {'name': 'Chris', 'height': 69, 'weight': 139},\n",
    "    'Diya': {'name': 'Diya', 'height': 69, 'weight': 144},\n",
    "    'Emma': {'name': 'Emma', 'height': 71, 'weight': 152}\n",
    "}\n",
    "people['Ada']['height']"
   ]
  },
  {
   "cell_type": "code",
   "execution_count": 40,
   "metadata": {},
   "outputs": [
    {
     "name": "stdout",
     "output_type": "stream",
     "text": [
      "Ada\n",
      "Bob\n",
      "Chris\n",
      "Diya\n",
      "Emma\n"
     ]
    }
   ],
   "source": [
    "people = [\n",
    "    {'name': 'Ada', 'height': 64, 'weight': 135},\n",
    "    {'name': 'Bob', 'height': 74, 'weight': 156},\n",
    "    {'name': 'Chris', 'height': 69, 'weight': 139},\n",
    "    {'name': 'Diya', 'height': 69, 'weight': 144},\n",
    "    {'name': 'Emma', 'height': 71, 'weight': 152}\n",
    "]\n",
    "\n",
    "for row in people:\n",
    "    print(row['name'])"
   ]
  },
  {
   "cell_type": "code",
   "execution_count": 46,
   "metadata": {},
   "outputs": [
    {
     "data": {
      "text/plain": [
       "[0, 1, 2, 3, 4, 5, 6, 7, 8, 9]"
      ]
     },
     "execution_count": 46,
     "metadata": {},
     "output_type": "execute_result"
    }
   ],
   "source": [
    "r = range(10)\n",
    "list(r)"
   ]
  },
  {
   "cell_type": "code",
   "execution_count": 51,
   "metadata": {},
   "outputs": [
    {
     "data": {
      "text/plain": [
       "1"
      ]
     },
     "execution_count": 51,
     "metadata": {},
     "output_type": "execute_result"
    }
   ],
   "source": [
    "keys = list(sample_dict.keys())\n",
    "keys[0]\n",
    "sample_dict[keys[0]]"
   ]
  },
  {
   "cell_type": "code",
   "execution_count": null,
   "metadata": {
    "collapsed": true
   },
   "outputs": [],
   "source": [
    "a,b = (x, y)\n",
    "a = (x,y)[0]\n",
    "b = (x,y)[1]"
   ]
  }
 ],
 "metadata": {
  "kernelspec": {
   "display_name": "Python 3",
   "language": "python",
   "name": "python3"
  },
  "language_info": {
   "codemirror_mode": {
    "name": "ipython",
    "version": 3
   },
   "file_extension": ".py",
   "mimetype": "text/x-python",
   "name": "python",
   "nbconvert_exporter": "python",
   "pygments_lexer": "ipython3",
   "version": "3.6.1"
  }
 },
 "nbformat": 4,
 "nbformat_minor": 2
}
